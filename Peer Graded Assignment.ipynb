{
 "cells": [
  {
   "cell_type": "markdown",
   "id": "7da88dee-2f6b-4c66-bc8a-74bdb5f41948",
   "metadata": {
    "tags": []
   },
   "source": [
    "# My Jupyter Notebook on IBM Watson Studio"
   ]
  },
  {
   "cell_type": "markdown",
   "id": "30191819-cec1-4352-b4c3-68204bde3706",
   "metadata": {
    "tags": []
   },
   "source": [
    "__Meghna John__\n",
    "\n",
    "Data Scientist"
   ]
  },
  {
   "cell_type": "markdown",
   "id": "913982ff-1e83-4d45-a7eb-fa07ba1e56c4",
   "metadata": {},
   "source": [
    "*I am interested in Data Science because I like to work with data and analyze it to give optimum results*"
   ]
  },
  {
   "cell_type": "markdown",
   "id": "81c517f0-d92c-4b9c-a037-d467430095ac",
   "metadata": {},
   "source": [
    "### The following code shows the multiplication operation of two numbers"
   ]
  },
  {
   "cell_type": "code",
   "execution_count": 11,
   "id": "0426988a-ac8c-49eb-9643-906b297221de",
   "metadata": {},
   "outputs": [
    {
     "data": {
      "text/plain": [
       "840"
      ]
     },
     "execution_count": 11,
     "metadata": {},
     "output_type": "execute_result"
    }
   ],
   "source": [
    "def multiplication(a,b):\n",
    "    return a*b\n",
    "multiplication(24,35)"
   ]
  },
  {
   "cell_type": "markdown",
   "id": "76b0cad3-4374-42bb-a5ae-c75cc08d31a7",
   "metadata": {},
   "source": [
    "* One\n",
    "* Two\n",
    "* Three\n",
    "* Four\n",
    "* Five\n",
    "---------------\n",
    "1. First\n",
    "2. Second\n",
    "3. Third\n",
    "4. Fourth\n",
    "5. Fifth\n",
    "---------------\n",
    "| Name | Id | Department |\n",
    "|------|:----:|:------------:|\n",
    "| name1 | 3 | dept1 |\n",
    "| name2 | 4 | dept2 |\n",
    "| name3 | 5 | dept3 |\n",
    "| name4 | 6 | dept4 |\n",
    "| name5 | 7 | dept5 |"
   ]
  }
 ],
 "metadata": {
  "kernelspec": {
   "display_name": "Python",
   "language": "python",
   "name": "conda-env-python-py"
  },
  "language_info": {
   "codemirror_mode": {
    "name": "ipython",
    "version": 3
   },
   "file_extension": ".py",
   "mimetype": "text/x-python",
   "name": "python",
   "nbconvert_exporter": "python",
   "pygments_lexer": "ipython3",
   "version": "3.7.12"
  }
 },
 "nbformat": 4,
 "nbformat_minor": 5
}
